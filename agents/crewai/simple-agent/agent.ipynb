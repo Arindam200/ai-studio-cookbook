{
  "cells": [
    {
      "cell_type": "markdown",
      "metadata": {
        "id": "SSx-yAbZ7-rt"
      },
      "source": [
        "# Run an Agent using CrewAI and Nebius\n",
        "\n",
        "[![Open In Colab](https://colab.research.google.com/assets/colab-badge.svg)](https://colab.research.google.com/github/nebius/ai-studio-cookbook/blob/main/agents/crewai/simple-agent/agent.ipynb)\n",
        "[![](https://img.shields.io/badge/Powered%20by-Nebius-orange?style=flat&labelColor=orange&color=green)](https://nebius.com/ai-studio)\n",
        "\n",
        "This example shows running an agent using [CrewAI](https://docs.crewai.com/) agent framework and running LLM on [Nebius AI Studio](https://studio.nebius.com/)\n",
        "\n",
        "## References and Acknoledgements\n",
        "\n",
        "- This example is adopted with thanks from [Arindam200/awesome-ai-apps](https://github.com/Arindam200/awesome-ai-apps) repo. [source](https://github.com/Arindam200/awesome-ai-apps/tree/main/starter_ai_agents/crewai_starter)\n",
        "- [CrewAI documentation](https://docs.crewai.com/en/introduction)\n",
        "- [Nebius AI Studio documentation](https://docs.nebius.com/studio/inference/quickstart)\n",
        "\n",
        "## Pre requisites\n",
        "\n",
        "- Nebius API key.  Sign up for free at [AI Studio](https://studio.nebius.com/)"
      ]
    },
    {
      "cell_type": "markdown",
      "metadata": {
        "id": "u-WGI4vv3TpP"
      },
      "source": [
        "## 1 - Setup\n",
        "\n",
        "### 1.1 - If running on Google Colab\n",
        "\n",
        "Add `NEBIUS_API_KEY` to **Secrets** as follows\n",
        "\n",
        "![](https://github.com/nebius/ai-studio-cookbook/raw/main/images/google-colab-1.png)\n",
        "\n",
        "\n",
        "### 1.2 - If running locally\n",
        "\n",
        "Create an `.env` file with NEBIUS_API_KEY as follows\n",
        "\n",
        "```text\n",
        "NEBIUS_API_KEY=your_api_key_goes_here\n",
        "```\n",
        "\n"
      ]
    },
    {
      "cell_type": "markdown",
      "metadata": {
        "id": "oM9S-4jv3KpW"
      },
      "source": [
        "## 2 - Install Dependencies"
      ]
    },
    {
      "cell_type": "code",
      "execution_count": 1,
      "metadata": {
        "id": "9mBTMSQA6q4J"
      },
      "outputs": [],
      "source": [
        "!pip install -q  crewai  python-dotenv"
      ]
    },
    {
      "cell_type": "markdown",
      "metadata": {
        "id": "gMX6xbv_7txD"
      },
      "source": [
        "## 3 - Load Configuration"
      ]
    },
    {
      "cell_type": "code",
      "execution_count": 2,
      "metadata": {
        "colab": {
          "base_uri": "https://localhost:8080/"
        },
        "id": "oMmj0jlC7dDw",
        "outputId": "063beb02-0145-4e05-e3f2-812e7fe0d3c6"
      },
      "outputs": [
        {
          "name": "stdout",
          "output_type": "stream",
          "text": [
            "NOT running in Colab\n",
            "✅ NEBIUS_API_KEY found\n"
          ]
        }
      ],
      "source": [
        "import os, sys\n",
        "\n",
        "## Recommended way of getting configuration\n",
        "if os.getenv(\"COLAB_RELEASE_TAG\"):\n",
        "   print(\"Running in Colab\")\n",
        "   from google.colab import userdata\n",
        "   NEBIUS_API_KEY = userdata.get('NEBIUS_API_KEY')\n",
        "else:\n",
        "   print(\"NOT running in Colab\")\n",
        "\n",
        "   from dotenv import load_dotenv\n",
        "   load_dotenv()\n",
        "   NEBIUS_API_KEY = os.getenv('NEBIUS_API_KEY')\n",
        "\n",
        "\n",
        "## quick hack (not recommended) - you can hardcode the config key here\n",
        "# NEBIUS_API_KEY = \"your_key_here\"\n",
        "\n",
        "if NEBIUS_API_KEY:\n",
        "  print ('✅ NEBIUS_API_KEY found')\n",
        "  os.environ['NEBIUS_API_KEY'] = NEBIUS_API_KEY\n",
        "else:\n",
        "  raise RuntimeError ('❌ NEBIUS_API_KEY NOT found')"
      ]
    },
    {
      "cell_type": "markdown",
      "metadata": {
        "id": "PVfWDLEH4PPF"
      },
      "source": [
        "## 4 - Setup and run the agent"
      ]
    },
    {
      "cell_type": "code",
      "execution_count": 3,
      "metadata": {
        "colab": {
          "base_uri": "https://localhost:8080/"
        },
        "id": "J5uh2kUb7IMw",
        "outputId": "eecd9908-41af-479a-d243-334ee27d865d"
      },
      "outputs": [
        {
          "name": "stdout",
          "output_type": "stream",
          "text": [
            "\u001b[1m\u001b[95m# Agent:\u001b[00m \u001b[1m\u001b[92mSenior Researcher\u001b[00m\n",
            "\u001b[95m## Task:\u001b[00m \u001b[92mIdentify the next big trend in AI\u001b[00m\n",
            "\n",
            "\n",
            "\u001b[1m\u001b[95m# Agent:\u001b[00m \u001b[1m\u001b[92mSenior Researcher\u001b[00m\n",
            "\u001b[95m## Final Answer:\u001b[00m \u001b[92m\n",
            "**The Next Big Trend in AI: Edge AI and the Democratization of Intelligence**\n",
            "\n",
            "As we continue to navigate the complexities of the modern world, the importance of artificial intelligence (AI) has become increasingly evident. From optimizing business operations to revolutionizing healthcare, AI has the potential to transform industries and improve lives. However, as we look to the future, it's clear that the next big trend in AI will be Edge AI – a paradigm shift that will bring intelligence closer to the source of data, reducing latency, and increasing efficiency.\n",
            "\n",
            "**Edge AI: A New Frontier**\n",
            "\n",
            "Edge AI refers to the deployment of machine learning (ML) models and AI algorithms on edge devices, such as smartphones, smart home devices, and autonomous vehicles. By processing data closer to where it's generated, Edge AI eliminates the need for data to be transmitted to the cloud or data centers for processing, reducing latency, and increasing real-time decision-making capabilities. This trend is driven by the need for more efficient and secure data processing, as the amount of data generated by IoT devices continues to grow exponentially. Edge AI will enable applications such as real-time object detection, predictive maintenance, and personalized recommendation systems to become more widespread.\n",
            "\n",
            "**Democratization of Intelligence**\n",
            "\n",
            "The democratization of intelligence is another key aspect of the next big trend in AI. With the proliferation of Edge AI, AI will become more accessible to a wider range of industries and individuals, enabling new use cases and applications that were previously unimaginable. Democratization of intelligence will enable developers, data scientists, and domain experts to build and deploy AI models without requiring extensive expertise in AI research. This will lead to a surge in innovation, as more people and organizations will be able to harness the power of AI to drive growth, efficiency, and sustainability.\n",
            "\n",
            "**The Impact of Edge AI on Industries**\n",
            "\n",
            "The impact of Edge AI will be felt across various industries, from healthcare and education to finance and transportation. In healthcare, Edge AI will enable real-time diagnosis and treatment, improving patient outcomes and reducing costs. In education, Edge AI will enable personalized learning experiences, tailoring instruction to individual students' needs and abilities. In finance, Edge AI will enable real-time risk assessment and portfolio optimization, reducing the risk of financial losses. In transportation, Edge AI will enable autonomous vehicles to make real-time decisions, reducing accidents and improving traffic flow.\n",
            "\n",
            "**The Future of Edge AI**\n",
            "\n",
            "As Edge AI continues to evolve, we can expect to see significant advancements in areas such as computer vision, natural language processing, and robotics. The integration of Edge AI with other emerging technologies, such as 5G networks and blockchain, will further enhance its capabilities and applications. As the technology continues to mature, we can expect to see the widespread adoption of Edge AI across industries, transforming the way we live, work, and interact with one another. The future of Edge AI is bright, and its potential to revolutionize the world is vast and untapped.\u001b[00m\n",
            "\n",
            "\n"
          ]
        }
      ],
      "source": [
        "from crewai import Agent, Task,LLM\n",
        "import os\n",
        "from crewai import Crew, Process\n",
        "\n",
        "llm=LLM(\n",
        "        model=\"openai/meta-llama/Meta-Llama-3.1-70B-Instruct\",\n",
        "        # model=\"openai/deepseek-ai/DeepSeek-R1-0528\",\n",
        "        base_url=\"https://api.studio.nebius.com/v1/\",\n",
        "        api_key=os.getenv(\"NEBIUS_API_KEY\")\n",
        ")\n",
        "\n",
        "# Create a researcher agent\n",
        "## see documentation : https://docs.crewai.com/en/concepts/agents#direct-code-definition\n",
        "\n",
        "researcher = Agent(\n",
        "  role='Senior Researcher',\n",
        "  goal='Discover groundbreaking technologies',\n",
        "  verbose=True,\n",
        "  llm=llm,\n",
        "  backstory='A curious mind fascinated by cutting-edge innovation and the potential to change the world, you know everything about tech.'\n",
        ")\n",
        "\n",
        "# Task for the researcher\n",
        "research_task = Task(\n",
        "  description='Identify the next big trend in AI',\n",
        "  expected_output='5 paragraphs on the next big AI trend',\n",
        "  agent=researcher  # Assigning the task to the researcher\n",
        ")\n",
        "\n",
        "# Instantiate your crew\n",
        "tech_crew = Crew(\n",
        "  agents=[researcher],\n",
        "  tasks=[research_task],\n",
        "  process=Process.sequential  # Tasks will be executed one after the other\n",
        ")\n",
        "\n",
        "# Begin the task execution\n",
        "result = tech_crew.kickoff()"
      ]
    },
    {
      "cell_type": "code",
      "execution_count": 4,
      "metadata": {
        "colab": {
          "base_uri": "https://localhost:8080/"
        },
        "id": "pBaoKOWXytzS",
        "outputId": "804a8a04-c89e-4422-a8c3-4bb45210c1b0"
      },
      "outputs": [
        {
          "data": {
            "text/plain": [
              "CrewOutput(raw=\"**The Next Big Trend in AI: Edge AI and the Democratization of Intelligence**\\n\\nAs we continue to navigate the complexities of the modern world, the importance of artificial intelligence (AI) has become increasingly evident. From optimizing business operations to revolutionizing healthcare, AI has the potential to transform industries and improve lives. However, as we look to the future, it's clear that the next big trend in AI will be Edge AI – a paradigm shift that will bring intelligence closer to the source of data, reducing latency, and increasing efficiency.\\n\\n**Edge AI: A New Frontier**\\n\\nEdge AI refers to the deployment of machine learning (ML) models and AI algorithms on edge devices, such as smartphones, smart home devices, and autonomous vehicles. By processing data closer to where it's generated, Edge AI eliminates the need for data to be transmitted to the cloud or data centers for processing, reducing latency, and increasing real-time decision-making capabilities. This trend is driven by the need for more efficient and secure data processing, as the amount of data generated by IoT devices continues to grow exponentially. Edge AI will enable applications such as real-time object detection, predictive maintenance, and personalized recommendation systems to become more widespread.\\n\\n**Democratization of Intelligence**\\n\\nThe democratization of intelligence is another key aspect of the next big trend in AI. With the proliferation of Edge AI, AI will become more accessible to a wider range of industries and individuals, enabling new use cases and applications that were previously unimaginable. Democratization of intelligence will enable developers, data scientists, and domain experts to build and deploy AI models without requiring extensive expertise in AI research. This will lead to a surge in innovation, as more people and organizations will be able to harness the power of AI to drive growth, efficiency, and sustainability.\\n\\n**The Impact of Edge AI on Industries**\\n\\nThe impact of Edge AI will be felt across various industries, from healthcare and education to finance and transportation. In healthcare, Edge AI will enable real-time diagnosis and treatment, improving patient outcomes and reducing costs. In education, Edge AI will enable personalized learning experiences, tailoring instruction to individual students' needs and abilities. In finance, Edge AI will enable real-time risk assessment and portfolio optimization, reducing the risk of financial losses. In transportation, Edge AI will enable autonomous vehicles to make real-time decisions, reducing accidents and improving traffic flow.\\n\\n**The Future of Edge AI**\\n\\nAs Edge AI continues to evolve, we can expect to see significant advancements in areas such as computer vision, natural language processing, and robotics. The integration of Edge AI with other emerging technologies, such as 5G networks and blockchain, will further enhance its capabilities and applications. As the technology continues to mature, we can expect to see the widespread adoption of Edge AI across industries, transforming the way we live, work, and interact with one another. The future of Edge AI is bright, and its potential to revolutionize the world is vast and untapped.\", pydantic=None, json_dict=None, tasks_output=[TaskOutput(description='Identify the next big trend in AI', name=None, expected_output='5 paragraphs on the next big AI trend', summary='Identify the next big trend in AI...', raw=\"**The Next Big Trend in AI: Edge AI and the Democratization of Intelligence**\\n\\nAs we continue to navigate the complexities of the modern world, the importance of artificial intelligence (AI) has become increasingly evident. From optimizing business operations to revolutionizing healthcare, AI has the potential to transform industries and improve lives. However, as we look to the future, it's clear that the next big trend in AI will be Edge AI – a paradigm shift that will bring intelligence closer to the source of data, reducing latency, and increasing efficiency.\\n\\n**Edge AI: A New Frontier**\\n\\nEdge AI refers to the deployment of machine learning (ML) models and AI algorithms on edge devices, such as smartphones, smart home devices, and autonomous vehicles. By processing data closer to where it's generated, Edge AI eliminates the need for data to be transmitted to the cloud or data centers for processing, reducing latency, and increasing real-time decision-making capabilities. This trend is driven by the need for more efficient and secure data processing, as the amount of data generated by IoT devices continues to grow exponentially. Edge AI will enable applications such as real-time object detection, predictive maintenance, and personalized recommendation systems to become more widespread.\\n\\n**Democratization of Intelligence**\\n\\nThe democratization of intelligence is another key aspect of the next big trend in AI. With the proliferation of Edge AI, AI will become more accessible to a wider range of industries and individuals, enabling new use cases and applications that were previously unimaginable. Democratization of intelligence will enable developers, data scientists, and domain experts to build and deploy AI models without requiring extensive expertise in AI research. This will lead to a surge in innovation, as more people and organizations will be able to harness the power of AI to drive growth, efficiency, and sustainability.\\n\\n**The Impact of Edge AI on Industries**\\n\\nThe impact of Edge AI will be felt across various industries, from healthcare and education to finance and transportation. In healthcare, Edge AI will enable real-time diagnosis and treatment, improving patient outcomes and reducing costs. In education, Edge AI will enable personalized learning experiences, tailoring instruction to individual students' needs and abilities. In finance, Edge AI will enable real-time risk assessment and portfolio optimization, reducing the risk of financial losses. In transportation, Edge AI will enable autonomous vehicles to make real-time decisions, reducing accidents and improving traffic flow.\\n\\n**The Future of Edge AI**\\n\\nAs Edge AI continues to evolve, we can expect to see significant advancements in areas such as computer vision, natural language processing, and robotics. The integration of Edge AI with other emerging technologies, such as 5G networks and blockchain, will further enhance its capabilities and applications. As the technology continues to mature, we can expect to see the widespread adoption of Edge AI across industries, transforming the way we live, work, and interact with one another. The future of Edge AI is bright, and its potential to revolutionize the world is vast and untapped.\", pydantic=None, json_dict=None, agent='Senior Researcher', output_format=<OutputFormat.RAW: 'raw'>)], token_usage=UsageMetrics(total_tokens=795, prompt_tokens=189, cached_prompt_tokens=0, completion_tokens=606, successful_requests=1))"
            ]
          },
          "execution_count": 4,
          "metadata": {},
          "output_type": "execute_result"
        }
      ],
      "source": [
        "## see raw response\n",
        "## Look at `token_usage` output\n",
        "result"
      ]
    },
    {
      "cell_type": "markdown",
      "metadata": {
        "id": "SsmAKpwwxGWX"
      },
      "source": [
        "## 5 - Experiment\n",
        "\n",
        "Now that our research agent is working, try the following\n",
        "\n",
        "### 1 - Try a different LLM\n",
        "\n",
        "Differnt LLMs might give different asnwer\n",
        "\n"
      ]
    },
    {
      "cell_type": "markdown",
      "metadata": {},
      "source": []
    }
  ],
  "metadata": {
    "colab": {
      "provenance": []
    },
    "kernelspec": {
      "display_name": "studio-1",
      "language": "python",
      "name": "python3"
    },
    "language_info": {
      "codemirror_mode": {
        "name": "ipython",
        "version": 3
      },
      "file_extension": ".py",
      "mimetype": "text/x-python",
      "name": "python",
      "nbconvert_exporter": "python",
      "pygments_lexer": "ipython3",
      "version": "3.11.13"
    }
  },
  "nbformat": 4,
  "nbformat_minor": 0
}
