{
  "cells": [
    {
      "cell_type": "markdown",
      "metadata": {
        "id": "SSx-yAbZ7-rt"
      },
      "source": [
        "# Run an Agent using CrewAI and Nebius\n",
        "\n",
        "[![Open In Colab](https://colab.research.google.com/assets/colab-badge.svg)](https://colab.research.google.com/github/nebius/ai-studio-cookbook/blob/main/agents/crewai/starter-agent/agent.ipynb)\n",
        "[![](https://img.shields.io/badge/Powered%20by-Nebius-orange?style=flat&labelColor=orange&color=green)](https://nebius.com/ai-studio)\n",
        "\n",
        "This example shows running an agent using [CrewAI](https://docs.crewai.com/) agent framework and running LLM on [Nebius AI Studio](https://studio.nebius.com/)\n",
        "\n",
        "🎥 [Watch video tutorial](https://www.youtube.com/watch?v=jth10qwoMq0)\n",
        "\n",
        "## References and Acknoledgements\n",
        "\n",
        "- This example is adopted with thanks from [Arindam200/awesome-ai-apps](https://github.com/Arindam200/awesome-ai-apps) repo. [source](https://github.com/Arindam200/awesome-ai-apps/tree/main/starter_ai_agents/crewai_starter)\n",
        "- [CrewAI documentation](https://docs.crewai.com/en/introduction)\n",
        "- [CrewAI + Nebius](https://docs.crewai.com/en/concepts/llms#nebius-ai-studio)\n",
        "- [Nebius AI Studio documentation](https://docs.nebius.com/studio/inference/quickstart)\n",
        "\n",
        "## Pre requisites\n",
        "\n",
        "- Nebius API key.  Sign up for free at [AI Studio](https://studio.nebius.com/)"
      ]
    },
    {
      "cell_type": "markdown",
      "metadata": {
        "id": "u-WGI4vv3TpP"
      },
      "source": [
        "## 1 - Setup\n",
        "\n",
        "### 1.1 - If running on Google Colab\n",
        "\n",
        "Add `NEBIUS_API_KEY` to **Secrets** as follows\n",
        "\n",
        "![](https://github.com/nebius/ai-studio-cookbook/raw/main/images/google-colab-1.png)\n",
        "\n",
        "\n",
        "### 1.2 - If running locally\n",
        "\n",
        "Create an `.env` file with NEBIUS_API_KEY as follows\n",
        "\n",
        "```text\n",
        "NEBIUS_API_KEY=your_api_key_goes_here\n",
        "```\n",
        "\n"
      ]
    },
    {
      "cell_type": "markdown",
      "metadata": {
        "id": "oM9S-4jv3KpW"
      },
      "source": [
        "## 2 - Install Dependencies"
      ]
    },
    {
      "cell_type": "code",
      "execution_count": 1,
      "metadata": {
        "id": "9mBTMSQA6q4J"
      },
      "outputs": [],
      "source": [
        "!pip install -q  crewai  python-dotenv"
      ]
    },
    {
      "cell_type": "markdown",
      "metadata": {
        "id": "gMX6xbv_7txD"
      },
      "source": [
        "## 3 - Load Configuration"
      ]
    },
    {
      "cell_type": "code",
      "execution_count": 2,
      "metadata": {
        "colab": {
          "base_uri": "https://localhost:8080/"
        },
        "id": "oMmj0jlC7dDw",
        "outputId": "063beb02-0145-4e05-e3f2-812e7fe0d3c6"
      },
      "outputs": [
        {
          "name": "stdout",
          "output_type": "stream",
          "text": [
            "NOT running in Colab\n",
            "✅ NEBIUS_API_KEY found\n"
          ]
        }
      ],
      "source": [
        "import os, sys\n",
        "\n",
        "## Recommended way of getting configuration\n",
        "if os.getenv(\"COLAB_RELEASE_TAG\"):\n",
        "   print(\"Running in Colab\")\n",
        "   from google.colab import userdata\n",
        "   NEBIUS_API_KEY = userdata.get('NEBIUS_API_KEY')\n",
        "else:\n",
        "   print(\"NOT running in Colab\")\n",
        "\n",
        "   from dotenv import load_dotenv\n",
        "   load_dotenv()\n",
        "   NEBIUS_API_KEY = os.getenv('NEBIUS_API_KEY')\n",
        "\n",
        "\n",
        "## quick hack (not recommended) - you can hardcode the config key here\n",
        "# NEBIUS_API_KEY = \"your_key_here\"\n",
        "\n",
        "if NEBIUS_API_KEY:\n",
        "  print ('✅ NEBIUS_API_KEY found')\n",
        "  os.environ['NEBIUS_API_KEY'] = NEBIUS_API_KEY\n",
        "else:\n",
        "  raise RuntimeError ('❌ NEBIUS_API_KEY NOT found')"
      ]
    },
    {
      "cell_type": "markdown",
      "metadata": {
        "id": "PVfWDLEH4PPF"
      },
      "source": [
        "## 4 - Setup and run the agent\n",
        "\n",
        "We are using [LiteLLM API](https://docs.litellm.ai/docs/).  \n",
        "\n",
        "[Reference](https://docs.crewai.com/en/learn/llm-connections#using-the-llm-class)"
      ]
    },
    {
      "cell_type": "code",
      "execution_count": 3,
      "metadata": {
        "colab": {
          "base_uri": "https://localhost:8080/"
        },
        "id": "J5uh2kUb7IMw",
        "outputId": "eecd9908-41af-479a-d243-334ee27d865d"
      },
      "outputs": [
        {
          "name": "stdout",
          "output_type": "stream",
          "text": [
            "\u001b[1m\u001b[95m# Agent:\u001b[00m \u001b[1m\u001b[92mSenior Researcher\u001b[00m\n",
            "\u001b[95m## Task:\u001b[00m \u001b[92mIdentify the next big trend in AI\u001b[00m\n",
            "\n",
            "\n",
            "\u001b[1m\u001b[95m# Agent:\u001b[00m \u001b[1m\u001b[92mSenior Researcher\u001b[00m\n",
            "\u001b[95m## Final Answer:\u001b[00m \u001b[92m\n",
            "The next big trend in AI is the rise of **AI-driven scientific discovery and innovation**, where artificial intelligence is becoming a pivotal tool for accelerating breakthroughs across disciplines. By leveraging machine learning models to analyze vast datasets, simulate complex systems, and predict outcomes, AI is transforming fields like drug development, materials science, and climate modeling. For instance, AI algorithms can now design novel molecules for pharmaceuticals in weeks rather than years, while also optimizing the discovery of sustainable materials for energy storage. This trend is not just about automation but about redefining the boundaries of human-led research by enabling rapid hypothesis generation and experimental validation.  \n",
            "\n",
            "Another critical aspect of this trend is **AI's role in personalized and adaptive healthcare**, where models are being trained to tailor treatments to individual genetic profiles and real-time patient data. From precision oncology, where AI identifies targeted therapies based on tumor mutations, to wearable devices that use neural networks to predict and manage chronic conditions, the integration of AI into clinical workflows is revolutionizing patient care. This shift is also spurring the development of AI-powered diagnostics that can detect diseases like cancer or Alzheimer’s at earlier stages with higher accuracy than traditional methods, reducing healthcare costs and improving outcomes.  \n",
            "\n",
            "The trend is also extending into **AI-driven environmental and climate solutions**, as researchers use machine learning to model climate change scenarios, optimize renewable energy systems, and monitor ecosystems in real time. For example, AI-powered satellite analysis is enabling more precise tracking of deforestation, while neural networks are enhancing the efficiency of wind and solar energy grids by predicting weather patterns and energy demand. These applications highlight AI’s potential to address some of the most urgent global challenges, making sustainability a core component of future AI development.  \n",
            "\n",
            "Additionally, **AI is becoming a collaborative partner in scientific research**, with tools like AI-driven lab assistants and autonomous research platforms. These systems can design experiments, analyze results, and even suggest new avenues of inquiry, effectively acting as \"co-researchers\" alongside human scientists. Platforms such as AlphaFold, which predicts protein structures, have already demonstrated how AI can solve long-standing scientific puzzles, while emerging tools are beginning to assist in fields like astronomy and physics. This collaboration is not replacing scientists but amplifying their capabilities, fostering a new era of interdisciplinary innovation.  \n",
            "\n",
            "Finally, the trend is driving a **shift toward ethical and explainable AI in scientific contexts**, as the reliability and transparency of AI models become paramount. Researchers are developing techniques to make AI decisions interpretable, ensuring that findings from AI-driven studies are reproducible and free from biases. This focus on accountability is essential for building trust in AI-generated insights, particularly in high-stakes areas like medicine and environmental policy. As this trend matures, it will likely shape the governance of AI, fostering a framework where technological advancement is aligned with societal values and scientific integrity.\u001b[00m\n",
            "\n",
            "\n"
          ]
        }
      ],
      "source": [
        "from crewai import Agent, Task,LLM\n",
        "import os\n",
        "from crewai import Crew, Process\n",
        "\n",
        "llm=LLM(\n",
        "        model=\"nebius/Qwen/Qwen3-30B-A3B\",\n",
        "        # model=\"nebius/deepseek-ai/DeepSeek-R1-0528\",\n",
        "        api_key=os.getenv(\"NEBIUS_API_KEY\")\n",
        ")\n",
        "\n",
        "# Create a researcher agent\n",
        "## see documentation : https://docs.crewai.com/en/concepts/agents#direct-code-definition\n",
        "\n",
        "researcher = Agent(\n",
        "  role='Senior Researcher',\n",
        "  goal='Discover groundbreaking technologies',\n",
        "  verbose=True,\n",
        "  llm=llm,\n",
        "  backstory='A curious mind fascinated by cutting-edge innovation and the potential to change the world, you know everything about tech.'\n",
        ")\n",
        "\n",
        "# Task for the researcher\n",
        "research_task = Task(\n",
        "  description='Identify the next big trend in AI',\n",
        "  expected_output='5 paragraphs on the next big AI trend',\n",
        "  agent=researcher  # Assigning the task to the researcher\n",
        ")\n",
        "\n",
        "# Instantiate your crew\n",
        "tech_crew = Crew(\n",
        "  agents=[researcher],\n",
        "  tasks=[research_task],\n",
        "  process=Process.sequential  # Tasks will be executed one after the other\n",
        ")\n",
        "\n",
        "# Begin the task execution\n",
        "result = tech_crew.kickoff()"
      ]
    },
    {
      "cell_type": "code",
      "execution_count": 4,
      "metadata": {
        "colab": {
          "base_uri": "https://localhost:8080/"
        },
        "id": "pBaoKOWXytzS",
        "outputId": "804a8a04-c89e-4422-a8c3-4bb45210c1b0"
      },
      "outputs": [
        {
          "data": {
            "text/plain": [
              "CrewOutput(raw='The next big trend in AI is the rise of **AI-driven scientific discovery and innovation**, where artificial intelligence is becoming a pivotal tool for accelerating breakthroughs across disciplines. By leveraging machine learning models to analyze vast datasets, simulate complex systems, and predict outcomes, AI is transforming fields like drug development, materials science, and climate modeling. For instance, AI algorithms can now design novel molecules for pharmaceuticals in weeks rather than years, while also optimizing the discovery of sustainable materials for energy storage. This trend is not just about automation but about redefining the boundaries of human-led research by enabling rapid hypothesis generation and experimental validation.  \\n\\nAnother critical aspect of this trend is **AI\\'s role in personalized and adaptive healthcare**, where models are being trained to tailor treatments to individual genetic profiles and real-time patient data. From precision oncology, where AI identifies targeted therapies based on tumor mutations, to wearable devices that use neural networks to predict and manage chronic conditions, the integration of AI into clinical workflows is revolutionizing patient care. This shift is also spurring the development of AI-powered diagnostics that can detect diseases like cancer or Alzheimer’s at earlier stages with higher accuracy than traditional methods, reducing healthcare costs and improving outcomes.  \\n\\nThe trend is also extending into **AI-driven environmental and climate solutions**, as researchers use machine learning to model climate change scenarios, optimize renewable energy systems, and monitor ecosystems in real time. For example, AI-powered satellite analysis is enabling more precise tracking of deforestation, while neural networks are enhancing the efficiency of wind and solar energy grids by predicting weather patterns and energy demand. These applications highlight AI’s potential to address some of the most urgent global challenges, making sustainability a core component of future AI development.  \\n\\nAdditionally, **AI is becoming a collaborative partner in scientific research**, with tools like AI-driven lab assistants and autonomous research platforms. These systems can design experiments, analyze results, and even suggest new avenues of inquiry, effectively acting as \"co-researchers\" alongside human scientists. Platforms such as AlphaFold, which predicts protein structures, have already demonstrated how AI can solve long-standing scientific puzzles, while emerging tools are beginning to assist in fields like astronomy and physics. This collaboration is not replacing scientists but amplifying their capabilities, fostering a new era of interdisciplinary innovation.  \\n\\nFinally, the trend is driving a **shift toward ethical and explainable AI in scientific contexts**, as the reliability and transparency of AI models become paramount. Researchers are developing techniques to make AI decisions interpretable, ensuring that findings from AI-driven studies are reproducible and free from biases. This focus on accountability is essential for building trust in AI-generated insights, particularly in high-stakes areas like medicine and environmental policy. As this trend matures, it will likely shape the governance of AI, fostering a framework where technological advancement is aligned with societal values and scientific integrity.', pydantic=None, json_dict=None, tasks_output=[TaskOutput(description='Identify the next big trend in AI', name=None, expected_output='5 paragraphs on the next big AI trend', summary='Identify the next big trend in AI...', raw='The next big trend in AI is the rise of **AI-driven scientific discovery and innovation**, where artificial intelligence is becoming a pivotal tool for accelerating breakthroughs across disciplines. By leveraging machine learning models to analyze vast datasets, simulate complex systems, and predict outcomes, AI is transforming fields like drug development, materials science, and climate modeling. For instance, AI algorithms can now design novel molecules for pharmaceuticals in weeks rather than years, while also optimizing the discovery of sustainable materials for energy storage. This trend is not just about automation but about redefining the boundaries of human-led research by enabling rapid hypothesis generation and experimental validation.  \\n\\nAnother critical aspect of this trend is **AI\\'s role in personalized and adaptive healthcare**, where models are being trained to tailor treatments to individual genetic profiles and real-time patient data. From precision oncology, where AI identifies targeted therapies based on tumor mutations, to wearable devices that use neural networks to predict and manage chronic conditions, the integration of AI into clinical workflows is revolutionizing patient care. This shift is also spurring the development of AI-powered diagnostics that can detect diseases like cancer or Alzheimer’s at earlier stages with higher accuracy than traditional methods, reducing healthcare costs and improving outcomes.  \\n\\nThe trend is also extending into **AI-driven environmental and climate solutions**, as researchers use machine learning to model climate change scenarios, optimize renewable energy systems, and monitor ecosystems in real time. For example, AI-powered satellite analysis is enabling more precise tracking of deforestation, while neural networks are enhancing the efficiency of wind and solar energy grids by predicting weather patterns and energy demand. These applications highlight AI’s potential to address some of the most urgent global challenges, making sustainability a core component of future AI development.  \\n\\nAdditionally, **AI is becoming a collaborative partner in scientific research**, with tools like AI-driven lab assistants and autonomous research platforms. These systems can design experiments, analyze results, and even suggest new avenues of inquiry, effectively acting as \"co-researchers\" alongside human scientists. Platforms such as AlphaFold, which predicts protein structures, have already demonstrated how AI can solve long-standing scientific puzzles, while emerging tools are beginning to assist in fields like astronomy and physics. This collaboration is not replacing scientists but amplifying their capabilities, fostering a new era of interdisciplinary innovation.  \\n\\nFinally, the trend is driving a **shift toward ethical and explainable AI in scientific contexts**, as the reliability and transparency of AI models become paramount. Researchers are developing techniques to make AI decisions interpretable, ensuring that findings from AI-driven studies are reproducible and free from biases. This focus on accountability is essential for building trust in AI-generated insights, particularly in high-stakes areas like medicine and environmental policy. As this trend matures, it will likely shape the governance of AI, fostering a framework where technological advancement is aligned with societal values and scientific integrity.', pydantic=None, json_dict=None, agent='Senior Researcher', output_format=<OutputFormat.RAW: 'raw'>)], token_usage=UsageMetrics(total_tokens=1721, prompt_tokens=187, cached_prompt_tokens=0, completion_tokens=1534, successful_requests=1))"
            ]
          },
          "execution_count": 4,
          "metadata": {},
          "output_type": "execute_result"
        }
      ],
      "source": [
        "## see raw response\n",
        "## Look at `token_usage` output\n",
        "result"
      ]
    },
    {
      "cell_type": "markdown",
      "metadata": {
        "id": "SsmAKpwwxGWX"
      },
      "source": [
        "## 5 - Experiment\n",
        "\n",
        "Now that our research agent is working, try the following\n",
        "\n",
        "### 1 - Try a different LLM\n",
        "\n",
        "Differnt LLMs might give different asnwer\n",
        "\n"
      ]
    },
    {
      "cell_type": "markdown",
      "metadata": {},
      "source": []
    }
  ],
  "metadata": {
    "colab": {
      "provenance": []
    },
    "kernelspec": {
      "display_name": "studio-1",
      "language": "python",
      "name": "python3"
    },
    "language_info": {
      "codemirror_mode": {
        "name": "ipython",
        "version": 3
      },
      "file_extension": ".py",
      "mimetype": "text/x-python",
      "name": "python",
      "nbconvert_exporter": "python",
      "pygments_lexer": "ipython3",
      "version": "3.11.13"
    }
  },
  "nbformat": 4,
  "nbformat_minor": 0
}
